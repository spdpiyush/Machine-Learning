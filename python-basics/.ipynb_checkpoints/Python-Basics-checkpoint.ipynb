{
 "cells": [
  {
   "cell_type": "markdown",
   "metadata": {},
   "source": [
    "## Python Keywords"
   ]
  },
  {
   "cell_type": "markdown",
   "metadata": {},
   "source": [
    "keywords are the reserved words in python, which has some special meaning.\n",
    "\n",
    "keywords can't be used as variable name, function name or any other identifier. And it's case sensitive.\n"
   ]
  },
  {
   "cell_type": "code",
   "execution_count": 7,
   "metadata": {
    "scrolled": true
   },
   "outputs": [
    {
     "name": "stdout",
     "output_type": "stream",
     "text": [
      "Keywords List :  ['False', 'None', 'True', 'and', 'as', 'assert', 'async', 'await', 'break', 'class', 'continue', 'def', 'del', 'elif', 'else', 'except', 'finally', 'for', 'from', 'global', 'if', 'import', 'in', 'is', 'lambda', 'nonlocal', 'not', 'or', 'pass', 'raise', 'return', 'try', 'while', 'with', 'yield']\n",
      "\n",
      "Total Number of keywords are :  35\n"
     ]
    }
   ],
   "source": [
    "# Program to get all the Keywords\n",
    "\n",
    "import keyword\n",
    "\n",
    "keywordList = keyword.kwlist\n",
    "print(\"Keywords List : \",keywordList)\n",
    "\n",
    "totalKeywordsSize = len(keywordList)\n",
    "print(\"\\nTotal Number of keywords are : \", totalKeywordsSize)\n"
   ]
  },
  {
   "cell_type": "markdown",
   "metadata": {},
   "source": [
    "# Identifiers"
   ]
  },
  {
   "cell_type": "markdown",
   "metadata": {},
   "source": [
    "Identifiers are the name given to entities like variables, function , classes etc. It helps in differentiating one entitiy from other.\n",
    "\n",
    "Rules for naming Identifiers :\n",
    "    \n",
    "    1. It should be a combination of letters ( a to z / A to Z ) or digits (0-9) or an underscore (_).\n",
    "    2. An Identifier should never start with any digit.\n",
    "    3. Reserverd words (i.e Keywords ) can't be used as identifiers.\n",
    "    4. Using of Special Symbols are not allowed like !, @, #, $, %, etc."
   ]
  },
  {
   "cell_type": "code",
   "execution_count": 9,
   "metadata": {},
   "outputs": [],
   "source": [
    "a = 12"
   ]
  },
  {
   "cell_type": "code",
   "execution_count": 11,
   "metadata": {},
   "outputs": [
    {
     "ename": "SyntaxError",
     "evalue": "invalid syntax (<ipython-input-11-2ddf08be7ab0>, line 1)",
     "output_type": "error",
     "traceback": [
      "\u001b[0;36m  File \u001b[0;32m\"<ipython-input-11-2ddf08be7ab0>\"\u001b[0;36m, line \u001b[0;32m1\u001b[0m\n\u001b[0;31m    @a = 12 #Invalid Identifier\u001b[0m\n\u001b[0m       ^\u001b[0m\n\u001b[0;31mSyntaxError\u001b[0m\u001b[0;31m:\u001b[0m invalid syntax\n"
     ]
    }
   ],
   "source": [
    "@a = 12 #Invalid Identifier"
   ]
  },
  {
   "cell_type": "code",
   "execution_count": null,
   "metadata": {},
   "outputs": [],
   "source": []
  }
 ],
 "metadata": {
  "kernelspec": {
   "display_name": "Python 3",
   "language": "python",
   "name": "python3"
  },
  "language_info": {
   "codemirror_mode": {
    "name": "ipython",
    "version": 3
   },
   "file_extension": ".py",
   "mimetype": "text/x-python",
   "name": "python",
   "nbconvert_exporter": "python",
   "pygments_lexer": "ipython3",
   "version": "3.7.3"
  }
 },
 "nbformat": 4,
 "nbformat_minor": 2
}
